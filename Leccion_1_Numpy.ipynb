{
 "cells": [
  {
   "cell_type": "code",
   "execution_count": 1,
   "metadata": {},
   "outputs": [],
   "source": [
    "import numpy as np\n",
    "import random"
   ]
  },
  {
   "cell_type": "code",
   "execution_count": 5,
   "metadata": {},
   "outputs": [
    {
     "data": {
      "text/plain": [
       "array([42, 27, 77, 72, 25, 43, 27, 90, 33, 89, 55, 48, 65, 72, 78, 60, 40,\n",
       "       74, 19, 35, 97, 27, 94, 32, 17, 69, 25, 21, 30, 43, 79, 50, 71, 47,\n",
       "       73, 96, 32, 54, 39, 53, 47, 63, 83, 20, 40, 87, 17, 16, 70, 94])"
      ]
     },
     "execution_count": 5,
     "metadata": {},
     "output_type": "execute_result"
    }
   ],
   "source": [
    "#Creación y Indexación:\n",
    "#Crea un array 1D con 50 valores aleatorio del 10 al 99. Accede a los elementos en las posiciones múltiplos de 5.\n",
    "\n",
    "array = np.random.randint(10, 100, (50))\n",
    "array"
   ]
  },
  {
   "cell_type": "code",
   "execution_count": 6,
   "metadata": {},
   "outputs": [
    {
     "data": {
      "text/plain": [
       "array([42, 43, 55, 60, 97, 69, 79, 96, 47, 87])"
      ]
     },
     "execution_count": 6,
     "metadata": {},
     "output_type": "execute_result"
    }
   ],
   "source": [
    "array[::5]"
   ]
  },
  {
   "cell_type": "code",
   "execution_count": 7,
   "metadata": {},
   "outputs": [
    {
     "data": {
      "text/plain": [
       "array([12,  4,  2, 13,  3, 15, 12,  9,  5,  7, 17,  5, 15,  2, 16, 17,  4,\n",
       "       15,  2,  4, 18,  2,  3,  1, 10,  4, 10, 11,  7, 13])"
      ]
     },
     "execution_count": 7,
     "metadata": {},
     "output_type": "execute_result"
    }
   ],
   "source": [
    "#Crea un array 1D con 30 valores del 1 al 20 (ambos incluidos). Utiliza indexación para obtener los elementos en las posiciones impares.\n",
    "\n",
    "array1 = np.random.randint(1, 21, (30))\n",
    "array1"
   ]
  },
  {
   "cell_type": "code",
   "execution_count": 8,
   "metadata": {},
   "outputs": [
    {
     "data": {
      "text/plain": [
       "array([12,  2,  3, 12,  5, 17, 15, 16,  4,  2, 18,  3, 10, 10,  7])"
      ]
     },
     "execution_count": 8,
     "metadata": {},
     "output_type": "execute_result"
    }
   ],
   "source": [
    "array1[::2]"
   ]
  },
  {
   "cell_type": "code",
   "execution_count": 9,
   "metadata": {},
   "outputs": [
    {
     "data": {
      "text/plain": [
       "array([[18.36, 18.41,  9.88, 13.17, 16.8 , 17.62],\n",
       "       [ 6.86, 12.49, 18.94,  7.76, 28.09, 11.53],\n",
       "       [28.27, 22.11, 29.21,  7.7 , 24.73,  2.05],\n",
       "       [25.64,  0.13, 12.12,  9.39, 16.75, 25.02]])"
      ]
     },
     "execution_count": 9,
     "metadata": {},
     "output_type": "execute_result"
    }
   ],
   "source": [
    "#Crea un array 2D de forma (4, 6) con números aleatorios decimales (no deben estar comprendidos solo entre 0 y 1). \n",
    "#Accede a la última fila de la matriz. Los decimales deben estar redondeados a 2 decimales.\n",
    "\n",
    "array2D = np.random.rand(4, 6) * 30\n",
    "array2D_round = np.round(array2D,2)\n",
    "array2D_round"
   ]
  },
  {
   "cell_type": "code",
   "execution_count": 10,
   "metadata": {},
   "outputs": [
    {
     "data": {
      "text/plain": [
       "array([25.64,  0.13, 12.12,  9.39, 16.75, 25.02])"
      ]
     },
     "execution_count": 10,
     "metadata": {},
     "output_type": "execute_result"
    }
   ],
   "source": [
    "array2D_round[-1]"
   ]
  },
  {
   "cell_type": "code",
   "execution_count": 11,
   "metadata": {},
   "outputs": [
    {
     "data": {
      "text/plain": [
       "array([[0.92, 0.36, 0.11, 0.26],\n",
       "       [0.65, 0.04, 0.38, 0.72],\n",
       "       [0.58, 0.75, 0.08, 0.09],\n",
       "       [0.51, 0.65, 0.19, 0.04],\n",
       "       [0.71, 0.3 , 0.71, 0.58],\n",
       "       [0.62, 0.49, 0.06, 0.24]])"
      ]
     },
     "execution_count": 11,
     "metadata": {},
     "output_type": "execute_result"
    }
   ],
   "source": [
    "#Crea un array NumPy 2D de forma (6, 4) con valores decimales entre 0 y 1. Accede a la segunda columna de la matriz. Los números deben estar redondeados a 2 decimales.\n",
    "\n",
    "array4 = np.random.rand(6, 4)\n",
    "array4_round = np.round(array4, 2)\n",
    "array4_round"
   ]
  },
  {
   "cell_type": "code",
   "execution_count": 12,
   "metadata": {},
   "outputs": [
    {
     "data": {
      "text/plain": [
       "array([0.36, 0.04, 0.75, 0.65, 0.3 , 0.49])"
      ]
     },
     "execution_count": 12,
     "metadata": {},
     "output_type": "execute_result"
    }
   ],
   "source": [
    "array4_round[:,1]"
   ]
  },
  {
   "cell_type": "code",
   "execution_count": 13,
   "metadata": {},
   "outputs": [
    {
     "data": {
      "text/plain": [
       "array([ 16,  25,  12,  31,  49, -10, -45,  47,  10, -36, -29,  12,  31,\n",
       "       -45,   7,   4,  18,  47,  48,  30,   4, -12, -33, -19, -43, -44,\n",
       "        -6, -38,  33,  45])"
      ]
     },
     "execution_count": 13,
     "metadata": {},
     "output_type": "execute_result"
    }
   ],
   "source": [
    "#Crea un array 1D con 30 valores enteros aleatorios entre -50 y 50. Extrae los valores negativos.\n",
    "\n",
    "array5 = np.random.randint(-50, 51, (30))\n",
    "array5"
   ]
  },
  {
   "cell_type": "code",
   "execution_count": 14,
   "metadata": {},
   "outputs": [
    {
     "data": {
      "text/plain": [
       "array([-10, -45, -36, -29, -45, -12, -33, -19, -43, -44,  -6, -38])"
      ]
     },
     "execution_count": 14,
     "metadata": {},
     "output_type": "execute_result"
    }
   ],
   "source": [
    "resultado = array5[array5 < 0]\n",
    "resultado \n"
   ]
  },
  {
   "cell_type": "code",
   "execution_count": 15,
   "metadata": {},
   "outputs": [
    {
     "data": {
      "text/plain": [
       "array([-10, -45, -36, -29, -45, -12, -33, -19, -43, -44,  -6, -38])"
      ]
     },
     "execution_count": 15,
     "metadata": {},
     "output_type": "execute_result"
    }
   ],
   "source": [
    "mascara = array5 < 0\n",
    "\n",
    "res = array5[mascara]\n",
    "res"
   ]
  },
  {
   "cell_type": "code",
   "execution_count": 16,
   "metadata": {},
   "outputs": [
    {
     "data": {
      "text/plain": [
       "array([0.74, 0.08, 0.48, 0.08, 0.95, 0.71, 0.19, 0.11, 0.39, 0.24])"
      ]
     },
     "execution_count": 16,
     "metadata": {},
     "output_type": "execute_result"
    }
   ],
   "source": [
    "#Crea un array 1D con 10 valores entre 0 y 1. Redondea los decimales a 2. Obtén los elementos cuyo valor es mayor que 0.5. ¿En que posición/es están esos elementos?\n",
    "\n",
    "array6 = np.random.rand(10)\n",
    "array6_round = np.round(array6, 2)\n",
    "array6_round"
   ]
  },
  {
   "cell_type": "code",
   "execution_count": 17,
   "metadata": {},
   "outputs": [
    {
     "data": {
      "text/plain": [
       "(array([0, 4, 5], dtype=int64),)"
      ]
     },
     "execution_count": 17,
     "metadata": {},
     "output_type": "execute_result"
    }
   ],
   "source": [
    "np.where(array6_round > 0.5) #devulve las posiciones"
   ]
  },
  {
   "cell_type": "code",
   "execution_count": 18,
   "metadata": {},
   "outputs": [
    {
     "data": {
      "text/plain": [
       "array([ 49,  35,   7,  84,  66,   1, 100,  54,  87,  35,  95,  94,  38,\n",
       "        85,   7, 100,  52,  97,  17,  94,  64,  88,  49,  52,   4,  84,\n",
       "         7,   6,  64,   2,  92,  74,  45,  51,  56,  86,  17,  91,  14,\n",
       "        34])"
      ]
     },
     "execution_count": 18,
     "metadata": {},
     "output_type": "execute_result"
    }
   ],
   "source": [
    "#Crea un array 1D con 40 valores del 1 al 100 (ambos incluidos). Obtén los elementos que son divisibles por 3 y por 4.\n",
    "\n",
    "\n",
    "array7 = np.random.randint(1, 101, (40))\n",
    "array7"
   ]
  },
  {
   "cell_type": "code",
   "execution_count": 19,
   "metadata": {},
   "outputs": [
    {
     "data": {
      "text/plain": [
       "(array([ 3, 25], dtype=int64),)"
      ]
     },
     "execution_count": 19,
     "metadata": {},
     "output_type": "execute_result"
    }
   ],
   "source": [
    "np.where((array7 % 3 == 0) & (array7 % 4 == 0))"
   ]
  },
  {
   "cell_type": "code",
   "execution_count": 20,
   "metadata": {},
   "outputs": [],
   "source": [
    "#BONUS: Crea un array 3D de forma (2, 3, 5) y 50 elementos con números enteros entre 0 y 100 (ambos incluidos). Reemplaza los elementos en posiciones múltiplos de 3 por 0."
   ]
  },
  {
   "cell_type": "code",
   "execution_count": 16,
   "metadata": {},
   "outputs": [
    {
     "data": {
      "text/plain": [
       "array([[[ 63,  46,  98,  43,  22],\n",
       "        [ 89,   3,  12,  76,   7],\n",
       "        [ 33,  53,  33,  30,  73]],\n",
       "\n",
       "       [[ 24,  69,  29,  39,  17],\n",
       "        [ 43,   1,  13,  76,  47],\n",
       "        [ 69,  45,  10,  46, 100]]])"
      ]
     },
     "execution_count": 16,
     "metadata": {},
     "output_type": "execute_result"
    }
   ],
   "source": [
    "array_bonus = np.random.randint(1,101,(2, 3, 5))\n",
    "array_bonus"
   ]
  },
  {
   "cell_type": "code",
   "execution_count": 19,
   "metadata": {},
   "outputs": [],
   "source": [
    "def bonus(array):\n",
    "\n",
    "    lista = np.reshape(array,(1,(array.size)))\n",
    "    new_array = []\n",
    "    forma = array.shape\n",
    "\n",
    "    for e in lista[0]:\n",
    "        if e %3 == 0:\n",
    "            new_array.append(0)\n",
    "        else:\n",
    "            new_array.append(e)\n",
    "\n",
    "    array_bonus_1 = np.array(new_array)\n",
    "    array_final_bonus = np.reshape(array_bonus_1, forma)\n",
    "    return array_final_bonus\n",
    "    "
   ]
  },
  {
   "cell_type": "code",
   "execution_count": 21,
   "metadata": {},
   "outputs": [
    {
     "data": {
      "text/plain": [
       "array([[[  0,  46,  98,  43,  22],\n",
       "        [ 89,   0,   0,  76,   7],\n",
       "        [  0,  53,   0,   0,  73]],\n",
       "\n",
       "       [[  0,   0,  29,   0,  17],\n",
       "        [ 43,   1,  13,  76,  47],\n",
       "        [  0,   0,  10,  46, 100]]])"
      ]
     },
     "execution_count": 21,
     "metadata": {},
     "output_type": "execute_result"
    }
   ],
   "source": [
    "solucion_bonus = bonus(array_bonus)\n",
    "solucion_bonus"
   ]
  },
  {
   "cell_type": "code",
   "execution_count": 21,
   "metadata": {},
   "outputs": [
    {
     "data": {
      "text/plain": [
       "array([[[100,  43,  54,  70],\n",
       "        [ 96,  61,  48,  99],\n",
       "        [ 46,  93,  16,  31]],\n",
       "\n",
       "       [[ 77,  68,  86,  36],\n",
       "        [ 70,   9,  99,  18],\n",
       "        [ 12,  56,   7,  45]]])"
      ]
     },
     "execution_count": 21,
     "metadata": {},
     "output_type": "execute_result"
    }
   ],
   "source": [
    "#Reshape y Transpose:\n",
    "#Ejercicios con reshape:\n",
    "#Crea un array 3D de forma (2, 3, 4) con valores aleatorios entre 1 y 100 (ambos inclusive). Utiliza reshape para convertirlo en un array 2D. Deberás pensar en la forma que es correcta para hacer este cambio.\n",
    "\n",
    "array3D = np.random.randint(1, 101, (2, 3, 4))\n",
    "array3D"
   ]
  },
  {
   "cell_type": "code",
   "execution_count": 22,
   "metadata": {},
   "outputs": [
    {
     "data": {
      "text/plain": [
       "array([[100,  46,  61,  54,  16,  99],\n",
       "       [ 77,  12,   9,  86,   7,  18],\n",
       "       [ 96,  43,  93,  48,  70,  31],\n",
       "       [ 70,  68,  56,  99,  36,  45]])"
      ]
     },
     "execution_count": 22,
     "metadata": {},
     "output_type": "execute_result"
    }
   ],
   "source": [
    "np.reshape(array3D, (4,6), order = 'F')"
   ]
  },
  {
   "cell_type": "code",
   "execution_count": 23,
   "metadata": {},
   "outputs": [
    {
     "data": {
      "text/plain": [
       "array([[100,  43,  54,  70,  96,  61],\n",
       "       [ 48,  99,  46,  93,  16,  31],\n",
       "       [ 77,  68,  86,  36,  70,   9],\n",
       "       [ 99,  18,  12,  56,   7,  45]])"
      ]
     },
     "execution_count": 23,
     "metadata": {},
     "output_type": "execute_result"
    }
   ],
   "source": [
    "np.reshape(array3D, (4,6), order = 'C')"
   ]
  },
  {
   "cell_type": "code",
   "execution_count": 24,
   "metadata": {},
   "outputs": [
    {
     "data": {
      "text/plain": [
       "array([[[ 9, 33, 39, 14, 58],\n",
       "        [10, 47, 34, 49, 16],\n",
       "        [27,  1, 32, 36, 42],\n",
       "        [57, 12, 13, 13, 22]],\n",
       "\n",
       "       [[24, 24, 32,  9, 56],\n",
       "        [29, 55, 52, 56, 38],\n",
       "        [44, 13, 19, 51, 59],\n",
       "        [22,  6, 10,  6, 32]],\n",
       "\n",
       "       [[13, 25,  9, 25,  8],\n",
       "        [52, 34,  1,  4, 42],\n",
       "        [49, 41, 28, 47, 10],\n",
       "        [30, 41, 40,  2,  6]]])"
      ]
     },
     "execution_count": 24,
     "metadata": {},
     "output_type": "execute_result"
    }
   ],
   "source": [
    "# Crea un array 3D de forma (3, 4, 5) con valores enteros del 1 al 60 (sin incluir). Utiliza reshape para convertirlo en un array 2D.\n",
    "\n",
    "array3D2 = np.random.randint(1, 60, (3, 4, 5))\n",
    "array3D2"
   ]
  },
  {
   "cell_type": "code",
   "execution_count": 25,
   "metadata": {},
   "outputs": [
    {
     "data": {
      "text/plain": [
       "array([[ 9, 33, 39, 14, 58, 10],\n",
       "       [47, 34, 49, 16, 27,  1],\n",
       "       [32, 36, 42, 57, 12, 13],\n",
       "       [13, 22, 24, 24, 32,  9],\n",
       "       [56, 29, 55, 52, 56, 38],\n",
       "       [44, 13, 19, 51, 59, 22],\n",
       "       [ 6, 10,  6, 32, 13, 25],\n",
       "       [ 9, 25,  8, 52, 34,  1],\n",
       "       [ 4, 42, 49, 41, 28, 47],\n",
       "       [10, 30, 41, 40,  2,  6]])"
      ]
     },
     "execution_count": 25,
     "metadata": {},
     "output_type": "execute_result"
    }
   ],
   "source": [
    "np.reshape (array3D2, (10,6))"
   ]
  },
  {
   "cell_type": "code",
   "execution_count": 26,
   "metadata": {},
   "outputs": [
    {
     "data": {
      "text/plain": [
       "array([[[0.73985227, 0.10526854],\n",
       "        [0.3988906 , 0.55050924],\n",
       "        [0.88854739, 0.31450397]],\n",
       "\n",
       "       [[0.94287539, 0.26349443],\n",
       "        [0.40883826, 0.37239386],\n",
       "        [0.30315691, 0.53038561]],\n",
       "\n",
       "       [[0.20108491, 0.75035979],\n",
       "        [0.41976795, 0.77203244],\n",
       "        [0.97800106, 0.59837936]],\n",
       "\n",
       "       [[0.16580341, 0.03099776],\n",
       "        [0.9534611 , 0.48872474],\n",
       "        [0.64203573, 0.02939245]]])"
      ]
     },
     "execution_count": 26,
     "metadata": {},
     "output_type": "execute_result"
    }
   ],
   "source": [
    "# Crea un array 3D de forma (4, 3, 2) con valores aleatorios entre 0 y 1. Utiliza reshape para convertirlo en un array 2D.\n",
    "\n",
    "\n",
    "array3D3 = np.random.rand(4, 3, 2)\n",
    "array3D3"
   ]
  },
  {
   "cell_type": "code",
   "execution_count": 27,
   "metadata": {},
   "outputs": [
    {
     "data": {
      "text/plain": [
       "array([[0.73985227, 0.10526854],\n",
       "       [0.3988906 , 0.55050924],\n",
       "       [0.88854739, 0.31450397],\n",
       "       [0.94287539, 0.26349443],\n",
       "       [0.40883826, 0.37239386],\n",
       "       [0.30315691, 0.53038561],\n",
       "       [0.20108491, 0.75035979],\n",
       "       [0.41976795, 0.77203244],\n",
       "       [0.97800106, 0.59837936],\n",
       "       [0.16580341, 0.03099776],\n",
       "       [0.9534611 , 0.48872474],\n",
       "       [0.64203573, 0.02939245]])"
      ]
     },
     "execution_count": 27,
     "metadata": {},
     "output_type": "execute_result"
    }
   ],
   "source": [
    "np.reshape (array3D3, (12,2))"
   ]
  },
  {
   "cell_type": "code",
   "execution_count": 28,
   "metadata": {},
   "outputs": [
    {
     "data": {
      "text/plain": [
       "array([[[ 9, 33, 39, 14, 58],\n",
       "        [10, 47, 34, 49, 16],\n",
       "        [27,  1, 32, 36, 42],\n",
       "        [57, 12, 13, 13, 22]],\n",
       "\n",
       "       [[24, 24, 32,  9, 56],\n",
       "        [29, 55, 52, 56, 38],\n",
       "        [44, 13, 19, 51, 59],\n",
       "        [22,  6, 10,  6, 32]],\n",
       "\n",
       "       [[13, 25,  9, 25,  8],\n",
       "        [52, 34,  1,  4, 42],\n",
       "        [49, 41, 28, 47, 10],\n",
       "        [30, 41, 40,  2,  6]]])"
      ]
     },
     "execution_count": 28,
     "metadata": {},
     "output_type": "execute_result"
    }
   ],
   "source": [
    "# Ejercicios con transpose:\n",
    "# Utiliza el array 3D del ejercicio 2 de reshape. Utiliza transpose para permutar los ejes y obtener un nuevo array con forma (5, 4, 3).\n",
    "\n",
    "array3D2 #array 3, 4, 5\n"
   ]
  },
  {
   "cell_type": "code",
   "execution_count": 29,
   "metadata": {},
   "outputs": [
    {
     "data": {
      "text/plain": [
       "array([[[ 9, 24, 13],\n",
       "        [10, 29, 52],\n",
       "        [27, 44, 49],\n",
       "        [57, 22, 30]],\n",
       "\n",
       "       [[33, 24, 25],\n",
       "        [47, 55, 34],\n",
       "        [ 1, 13, 41],\n",
       "        [12,  6, 41]],\n",
       "\n",
       "       [[39, 32,  9],\n",
       "        [34, 52,  1],\n",
       "        [32, 19, 28],\n",
       "        [13, 10, 40]],\n",
       "\n",
       "       [[14,  9, 25],\n",
       "        [49, 56,  4],\n",
       "        [36, 51, 47],\n",
       "        [13,  6,  2]],\n",
       "\n",
       "       [[58, 56,  8],\n",
       "        [16, 38, 42],\n",
       "        [42, 59, 10],\n",
       "        [22, 32,  6]]])"
      ]
     },
     "execution_count": 29,
     "metadata": {},
     "output_type": "execute_result"
    }
   ],
   "source": [
    "np.transpose(array3D2)"
   ]
  },
  {
   "cell_type": "code",
   "execution_count": 30,
   "metadata": {},
   "outputs": [
    {
     "data": {
      "text/plain": [
       "array([[[0.73985227, 0.10526854],\n",
       "        [0.3988906 , 0.55050924],\n",
       "        [0.88854739, 0.31450397]],\n",
       "\n",
       "       [[0.94287539, 0.26349443],\n",
       "        [0.40883826, 0.37239386],\n",
       "        [0.30315691, 0.53038561]],\n",
       "\n",
       "       [[0.20108491, 0.75035979],\n",
       "        [0.41976795, 0.77203244],\n",
       "        [0.97800106, 0.59837936]],\n",
       "\n",
       "       [[0.16580341, 0.03099776],\n",
       "        [0.9534611 , 0.48872474],\n",
       "        [0.64203573, 0.02939245]]])"
      ]
     },
     "execution_count": 30,
     "metadata": {},
     "output_type": "execute_result"
    }
   ],
   "source": [
    "# Utiliza el array 3D del ejercicio 3 de reshape. Utiliza transpose para cambiar el orden de los ejes y obtener un nuevo array con forma (3, 2, 4).\n",
    "\n",
    "array3D3 #4,3,2"
   ]
  },
  {
   "cell_type": "code",
   "execution_count": 31,
   "metadata": {},
   "outputs": [
    {
     "data": {
      "text/plain": [
       "array([[[0.73985227, 0.94287539, 0.20108491, 0.16580341],\n",
       "        [0.10526854, 0.26349443, 0.75035979, 0.03099776]],\n",
       "\n",
       "       [[0.3988906 , 0.40883826, 0.41976795, 0.9534611 ],\n",
       "        [0.55050924, 0.37239386, 0.77203244, 0.48872474]],\n",
       "\n",
       "       [[0.88854739, 0.30315691, 0.97800106, 0.64203573],\n",
       "        [0.31450397, 0.53038561, 0.59837936, 0.02939245]]])"
      ]
     },
     "execution_count": 31,
     "metadata": {},
     "output_type": "execute_result"
    }
   ],
   "source": [
    "np.transpose(array3D3, axes = (1, 2, 0))"
   ]
  },
  {
   "cell_type": "markdown",
   "metadata": {},
   "source": [
    "# Preguntas teóricas:\n",
    "# ¿Qué diferencia existe entre el reshape y el transpose?\n",
    "\n",
    "reshape cambia la forma del array manteniendo los mismos datos.\n",
    "transpose intercambia filas y columnas en una matriz o un array multidimensional.\n",
    "\n",
    "# ¿Y entre el transpose y el swapaxes?\n",
    "\n",
    "transpose reorganiza todas las dimensiones de un array multidimensional, swapaxes solo intercambia dos ejes específicos \n",
    "sin cambiar el orden de las demás dimensiones."
   ]
  },
  {
   "cell_type": "code",
   "execution_count": 32,
   "metadata": {},
   "outputs": [
    {
     "data": {
      "text/plain": [
       "array([[[0.6, 0.2, 1. , 0.6, 0.3],\n",
       "        [0.6, 0.6, 0.8, 0.1, 1. ],\n",
       "        [1. , 0.2, 0.7, 0.8, 0.4]],\n",
       "\n",
       "       [[0.7, 0.3, 0.4, 0.3, 0. ],\n",
       "        [0.4, 0.1, 0.2, 0.6, 0.6],\n",
       "        [0.7, 0.6, 0.3, 0.9, 0.1]]])"
      ]
     },
     "execution_count": 32,
     "metadata": {},
     "output_type": "execute_result"
    }
   ],
   "source": [
    "# Funciones Aritméticas y Estadísticas:\n",
    "# Crea un array de tres 3D con elementos entre el 0 y 1 de forma (2, 3, 5) cuyos valores solo tengan 1 decimal.\n",
    "\n",
    "array_aritmetica_1 = np.round(np.random.rand(2, 3, 5),1)\n",
    "array_aritmetica_1"
   ]
  },
  {
   "cell_type": "code",
   "execution_count": 33,
   "metadata": {},
   "outputs": [
    {
     "data": {
      "text/plain": [
       "array([[[0.6, 0.2, 1. , 0.6, 0.3],\n",
       "        [0.6, 0.6, 0.8, 0.1, 1. ],\n",
       "        [1. , 0.2, 0.7, 0.8, 0.4]],\n",
       "\n",
       "       [[0.7, 0.3, 0.4, 0.3, 0. ],\n",
       "        [0.4, 0.1, 0.2, 0.6, 0.6],\n",
       "        [0.7, 0.6, 0.3, 0.9, 0.1]]])"
      ]
     },
     "execution_count": 33,
     "metadata": {},
     "output_type": "execute_result"
    }
   ],
   "source": [
    "# Crea un array vacío con la misma forma y dimensiones que el array creado anteriormente. \n",
    "\n",
    "\n",
    "array_aritmetica_2 = np.empty((2, 3, 5), dtype = float)\n",
    "array_aritmetica_2"
   ]
  },
  {
   "cell_type": "code",
   "execution_count": 35,
   "metadata": {},
   "outputs": [],
   "source": [
    "#Vamos a reemplazar los valores de la matriz vacía que nos acabamos de crear pero basándonos en los valores del primer array bajo las \n",
    "#siguientes condiciones: \n",
    "# Si el valor del array es igual que la media, se reemplaza por \"A\".\n",
    "# Si el valor del array es mayor que la media, se reemplaza por \"B\".\n",
    "# Si el valor del array es menor que la media, se reemplaza por \"C\".\n",
    "# Si el valor es igual que el máximo, se reemplaza por \"D\".\n",
    "# Si el valor es igual que el mínimo, se reemplaza por \"E\".\n",
    "\n",
    "\n",
    "array_ultimo = np.empty((2, 3, 5), dtype = float)\n"
   ]
  },
  {
   "cell_type": "code",
   "execution_count": 36,
   "metadata": {},
   "outputs": [
    {
     "data": {
      "text/plain": [
       "array([[[0.6, 0.2, 1. , 0.6, 0.3],\n",
       "        [0.6, 0.6, 0.8, 0.1, 1. ],\n",
       "        [1. , 0.2, 0.7, 0.8, 0.4]],\n",
       "\n",
       "       [[0.7, 0.3, 0.4, 0.3, 0. ],\n",
       "        [0.4, 0.1, 0.2, 0.6, 0.6],\n",
       "        [0.7, 0.6, 0.3, 0.9, 0.1]]])"
      ]
     },
     "execution_count": 36,
     "metadata": {},
     "output_type": "execute_result"
    }
   ],
   "source": [
    "array_ultimo"
   ]
  },
  {
   "cell_type": "code",
   "execution_count": 37,
   "metadata": {},
   "outputs": [
    {
     "data": {
      "text/plain": [
       "0.5"
      ]
     },
     "execution_count": 37,
     "metadata": {},
     "output_type": "execute_result"
    }
   ],
   "source": [
    "media = np.round(np.mean(array_aritmetica_2),1)\n",
    "media"
   ]
  },
  {
   "cell_type": "code",
   "execution_count": 41,
   "metadata": {},
   "outputs": [
    {
     "data": {
      "text/plain": [
       "[0.6, 0.2]"
      ]
     },
     "execution_count": 41,
     "metadata": {},
     "output_type": "execute_result"
    }
   ],
   "source": [
    "lista = list(np.reshape(array_ultimo, (30)))\n",
    "lista[:2]"
   ]
  },
  {
   "cell_type": "code",
   "execution_count": 49,
   "metadata": {},
   "outputs": [],
   "source": [
    "def transformar_letras (array):\n",
    "    lista_nueva = []\n",
    "    forma = array.shape\n",
    "    lista = list(np.reshape(array, (array.size)))\n",
    "\n",
    "    for elemento in lista:\n",
    "        if elemento == np.max(array):\n",
    "            elemento = \"D\"\n",
    "            lista_nueva.append(elemento)\n",
    "        elif elemento == np.min(array):\n",
    "            elemento = \"E\"\n",
    "            lista_nueva.append(elemento)\n",
    "        elif elemento == np.mean(array):\n",
    "            elemento = \"A\"\n",
    "            lista_nueva.append(elemento)\n",
    "        elif elemento > np.mean(array):\n",
    "            elemento = \"B\"\n",
    "            lista_nueva.append(elemento)\n",
    "        elif elemento < np.mean(array):\n",
    "            elemento = \"C\"\n",
    "            lista_nueva.append(elemento)\n",
    "   \n",
    "    array_final_1 = np.array(lista_nueva)\n",
    "    array_final = np.reshape(array_final_1, forma)\n",
    "    return array_final"
   ]
  },
  {
   "cell_type": "code",
   "execution_count": 50,
   "metadata": {},
   "outputs": [
    {
     "data": {
      "text/plain": [
       "array([[['B', 'C', 'D', 'B', 'C'],\n",
       "        ['B', 'B', 'B', 'C', 'D'],\n",
       "        ['D', 'C', 'B', 'B', 'C']],\n",
       "\n",
       "       [['B', 'C', 'C', 'C', 'E'],\n",
       "        ['C', 'C', 'C', 'B', 'B'],\n",
       "        ['B', 'B', 'C', 'B', 'C']]], dtype='<U1')"
      ]
     },
     "execution_count": 50,
     "metadata": {},
     "output_type": "execute_result"
    }
   ],
   "source": [
    "array_sustiuido = transformar_letras(array_ultimo)\n",
    "\n",
    "array_sustiuido"
   ]
  },
  {
   "cell_type": "code",
   "execution_count": 46,
   "metadata": {},
   "outputs": [
    {
     "data": {
      "text/plain": [
       "array([[[0.6, 0.2, 1. , 0.6, 0.3],\n",
       "        [0.6, 0.6, 0.8, 0.1, 1. ],\n",
       "        [1. , 0.2, 0.7, 0.8, 0.4]],\n",
       "\n",
       "       [[0.7, 0.3, 0.4, 0.3, 0. ],\n",
       "        [0.4, 0.1, 0.2, 0.6, 0.6],\n",
       "        [0.7, 0.6, 0.3, 0.9, 0.1]]])"
      ]
     },
     "execution_count": 46,
     "metadata": {},
     "output_type": "execute_result"
    }
   ],
   "source": [
    "array_ultimo"
   ]
  }
 ],
 "metadata": {
  "kernelspec": {
   "display_name": "Python 3",
   "language": "python",
   "name": "python3"
  },
  "language_info": {
   "codemirror_mode": {
    "name": "ipython",
    "version": 3
   },
   "file_extension": ".py",
   "mimetype": "text/x-python",
   "name": "python",
   "nbconvert_exporter": "python",
   "pygments_lexer": "ipython3",
   "version": "3.11.5"
  }
 },
 "nbformat": 4,
 "nbformat_minor": 2
}
