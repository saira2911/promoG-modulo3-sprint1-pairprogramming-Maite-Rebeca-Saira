{
 "cells": [
  {
   "cell_type": "code",
   "execution_count": 2,
   "metadata": {},
   "outputs": [],
   "source": [
    "import numpy as np\n",
    "import random"
   ]
  },
  {
   "cell_type": "code",
   "execution_count": 7,
   "metadata": {},
   "outputs": [
    {
     "data": {
      "text/plain": [
       "array([14, 94, 16, 83, 50, 96, 91, 52, 93, 72, 59, 71, 79, 73, 35, 10, 68,\n",
       "       85, 86, 20, 39, 12, 42, 25, 56, 57, 56, 39, 64, 37, 79, 95, 60, 41,\n",
       "       29, 75, 26, 16, 40, 75, 21, 44, 90, 81, 52, 29, 60, 76, 38, 41])"
      ]
     },
     "execution_count": 7,
     "metadata": {},
     "output_type": "execute_result"
    }
   ],
   "source": [
    "#Creación y Indexación:\n",
    "#Crea un array 1D con 50 valores aleatorio del 10 al 99. Accede a los elementos en las posiciones múltiplos de 5.\n",
    "\n",
    "array = np.random.randint(10, 100, (50))\n",
    "array"
   ]
  },
  {
   "cell_type": "code",
   "execution_count": 5,
   "metadata": {},
   "outputs": [
    {
     "data": {
      "text/plain": [
       "array([35, 33, 48, 86, 26, 20, 73, 42, 99, 42])"
      ]
     },
     "execution_count": 5,
     "metadata": {},
     "output_type": "execute_result"
    }
   ],
   "source": [
    "array[::5]"
   ]
  },
  {
   "cell_type": "code",
   "execution_count": 8,
   "metadata": {},
   "outputs": [
    {
     "data": {
      "text/plain": [
       "array([15,  7,  3,  1, 12, 20, 20,  3,  5, 12,  7, 10,  9, 17,  3,  2, 16,\n",
       "        9, 15, 20,  9,  3,  1, 14, 18, 13, 11,  5,  6,  1])"
      ]
     },
     "execution_count": 8,
     "metadata": {},
     "output_type": "execute_result"
    }
   ],
   "source": [
    "#Crea un array 1D con 30 valores del 1 al 20 (ambos incluidos). Utiliza indexación para obtener los elementos en las posiciones impares.\n",
    "\n",
    "array1 = np.random.randint(1, 21, (30))\n",
    "array1"
   ]
  },
  {
   "cell_type": "code",
   "execution_count": 9,
   "metadata": {},
   "outputs": [
    {
     "data": {
      "text/plain": [
       "array([15,  3, 12, 20,  5,  7,  9,  3, 16, 15,  9,  1, 18, 11,  6])"
      ]
     },
     "execution_count": 9,
     "metadata": {},
     "output_type": "execute_result"
    }
   ],
   "source": [
    "array1[::2]"
   ]
  },
  {
   "cell_type": "code",
   "execution_count": 21,
   "metadata": {},
   "outputs": [
    {
     "data": {
      "text/plain": [
       "array([[ 2.28,  1.12,  5.83, 13.38,  5.1 ,  9.57],\n",
       "       [ 9.46, 17.29,  9.93, 19.1 ,  9.86,  4.58],\n",
       "       [21.46, 19.44, 28.28, 10.9 , 11.55, 16.9 ],\n",
       "       [29.63, 16.6 , 15.79,  8.94, 27.67, 26.95]])"
      ]
     },
     "execution_count": 21,
     "metadata": {},
     "output_type": "execute_result"
    }
   ],
   "source": [
    "#Crea un array 2D de forma (4, 6) con números aleatorios decimales (no deben estar comprendidos solo entre 0 y 1). \n",
    "#Accede a la última fila de la matriz. Los decimales deben estar redondeados a 2 decimales.\n",
    "\n",
    "array2D = np.random.rand(4, 6) * 30\n",
    "array2D_round = np.round(array2D,2)\n",
    "array2D_round"
   ]
  },
  {
   "cell_type": "code",
   "execution_count": 22,
   "metadata": {},
   "outputs": [
    {
     "data": {
      "text/plain": [
       "array([29.63, 16.6 , 15.79,  8.94, 27.67, 26.95])"
      ]
     },
     "execution_count": 22,
     "metadata": {},
     "output_type": "execute_result"
    }
   ],
   "source": [
    "array2D_round[-1]"
   ]
  },
  {
   "cell_type": "code",
   "execution_count": 24,
   "metadata": {},
   "outputs": [
    {
     "data": {
      "text/plain": [
       "array([[0.35, 0.37, 0.34, 0.15],\n",
       "       [0.3 , 0.55, 0.11, 0.01],\n",
       "       [0.5 , 0.12, 0.22, 0.92],\n",
       "       [0.06, 0.49, 0.86, 0.94],\n",
       "       [0.41, 0.86, 0.22, 0.59],\n",
       "       [0.09, 0.31, 0.27, 0.69]])"
      ]
     },
     "execution_count": 24,
     "metadata": {},
     "output_type": "execute_result"
    }
   ],
   "source": [
    "#Crea un array NumPy 2D de forma (6, 4) con valores decimales entre 0 y 1. Accede a la segunda columna de la matriz. Los números deben estar redondeados a 2 decimales.\n",
    "\n",
    "array4 = np.random.rand(6, 4)\n",
    "array4_round = np.round(array4, 2)\n",
    "array4_round"
   ]
  },
  {
   "cell_type": "code",
   "execution_count": 25,
   "metadata": {},
   "outputs": [
    {
     "data": {
      "text/plain": [
       "array([0.37, 0.55, 0.12, 0.49, 0.86, 0.31])"
      ]
     },
     "execution_count": 25,
     "metadata": {},
     "output_type": "execute_result"
    }
   ],
   "source": [
    "array4_round[:,1]"
   ]
  },
  {
   "cell_type": "code",
   "execution_count": 26,
   "metadata": {},
   "outputs": [
    {
     "data": {
      "text/plain": [
       "array([ 17,  10,  24,  46,  29, -46, -45,  48,   3, -34,  -8,   9,  35,\n",
       "       -23,  16, -39,   2,  -8,  46,  22,   6,  42,  35,  -3,  16,  32,\n",
       "       -24,  43,  45,  21])"
      ]
     },
     "execution_count": 26,
     "metadata": {},
     "output_type": "execute_result"
    }
   ],
   "source": [
    "#Crea un array 1D con 30 valores enteros aleatorios entre -50 y 50. Extrae los valores negativos.\n",
    "\n",
    "array5 = np.random.randint(-50, 51, (30))\n",
    "array5"
   ]
  },
  {
   "cell_type": "code",
   "execution_count": 29,
   "metadata": {},
   "outputs": [
    {
     "data": {
      "text/plain": [
       "array([-46, -45, -34,  -8, -23, -39,  -8,  -3, -24])"
      ]
     },
     "execution_count": 29,
     "metadata": {},
     "output_type": "execute_result"
    }
   ],
   "source": [
    "resultado = array5[array5 < 0]\n",
    "resultado \n"
   ]
  },
  {
   "cell_type": "code",
   "execution_count": 31,
   "metadata": {},
   "outputs": [
    {
     "data": {
      "text/plain": [
       "array([-46, -45, -34,  -8, -23, -39,  -8,  -3, -24])"
      ]
     },
     "execution_count": 31,
     "metadata": {},
     "output_type": "execute_result"
    }
   ],
   "source": [
    "mascara = array5 < 0\n",
    "\n",
    "res = array5[mascara]\n",
    "res"
   ]
  },
  {
   "cell_type": "code",
   "execution_count": 34,
   "metadata": {},
   "outputs": [
    {
     "data": {
      "text/plain": [
       "array([0.7 , 0.51, 0.93, 0.6 , 0.29, 0.18, 0.62, 0.65, 0.7 , 0.02])"
      ]
     },
     "execution_count": 34,
     "metadata": {},
     "output_type": "execute_result"
    }
   ],
   "source": [
    "#Crea un array 1D con 10 valores entre 0 y 1. Redondea los decimales a 2. Obtén los elementos cuyo valor es mayor que 0.5. ¿En que posición/es están esos elementos?\n",
    "\n",
    "array6 = np.random.rand(10)\n",
    "array6_round = np.round(array6, 2)\n",
    "array6_round"
   ]
  },
  {
   "cell_type": "code",
   "execution_count": 35,
   "metadata": {},
   "outputs": [
    {
     "data": {
      "text/plain": [
       "(array([0, 1, 2, 3, 6, 7, 8], dtype=int64),)"
      ]
     },
     "execution_count": 35,
     "metadata": {},
     "output_type": "execute_result"
    }
   ],
   "source": [
    "np.where(array6_round > 0.5) #devulve las posiciones"
   ]
  },
  {
   "cell_type": "code",
   "execution_count": 36,
   "metadata": {},
   "outputs": [
    {
     "data": {
      "text/plain": [
       "array([ 1, 59, 36, 90, 65, 73, 70, 19, 39, 61, 13, 32, 68, 80, 64, 22, 62,\n",
       "       27, 60, 65, 54, 37, 97, 65, 48, 89, 69, 26, 30, 76, 99, 95, 49, 38,\n",
       "       17, 89, 83, 12, 67, 12])"
      ]
     },
     "execution_count": 36,
     "metadata": {},
     "output_type": "execute_result"
    }
   ],
   "source": [
    "#Crea un array 1D con 40 valores del 1 al 100 (ambos incluidos). Obtén los elementos que son divisibles por 3 y por 4.\n",
    "\n",
    "\n",
    "array7 = np.random.randint(1, 101, (40))\n",
    "array7"
   ]
  },
  {
   "cell_type": "code",
   "execution_count": 38,
   "metadata": {},
   "outputs": [
    {
     "data": {
      "text/plain": [
       "(array([ 2, 18, 24, 37, 39], dtype=int64),)"
      ]
     },
     "execution_count": 38,
     "metadata": {},
     "output_type": "execute_result"
    }
   ],
   "source": [
    "np.where((array7 % 3 == 0) & (array7 % 4 == 0))"
   ]
  },
  {
   "cell_type": "code",
   "execution_count": null,
   "metadata": {},
   "outputs": [],
   "source": [
    "#BONUS: Crea un array 3D de forma (2, 3, 5) y 50 elementos con números enteros entre 0 y 100 (ambos incluidos). Reemplaza los elementos en posiciones múltiplos de 3 por 0."
   ]
  },
  {
   "cell_type": "code",
   "execution_count": 39,
   "metadata": {},
   "outputs": [
    {
     "data": {
      "text/plain": [
       "array([[[11, 12, 65, 88],\n",
       "        [84, 23, 86, 98],\n",
       "        [47, 49, 38, 70]],\n",
       "\n",
       "       [[45,  4, 25, 57],\n",
       "        [13, 13, 78, 22],\n",
       "        [65, 93, 71, 88]]])"
      ]
     },
     "execution_count": 39,
     "metadata": {},
     "output_type": "execute_result"
    }
   ],
   "source": [
    "#Reshape y Transpose:\n",
    "#Ejercicios con reshape:\n",
    "#Crea un array 3D de forma (2, 3, 4) con valores aleatorios entre 1 y 100 (ambos inclusive). Utiliza reshape para convertirlo en un array 2D. Deberás pensar en la forma que es correcta para hacer este cambio.\n",
    "\n",
    "array3D = np.random.randint(1, 101, (2, 3, 4))\n",
    "array3D"
   ]
  },
  {
   "cell_type": "code",
   "execution_count": 48,
   "metadata": {},
   "outputs": [
    {
     "data": {
      "text/plain": [
       "array([[11, 47, 23, 65, 38, 98],\n",
       "       [45, 65, 13, 25, 71, 22],\n",
       "       [84, 12, 49, 86, 88, 70],\n",
       "       [13,  4, 93, 78, 57, 88]])"
      ]
     },
     "execution_count": 48,
     "metadata": {},
     "output_type": "execute_result"
    }
   ],
   "source": [
    "np.reshape(array3D, (4,6), order = 'F')"
   ]
  },
  {
   "cell_type": "code",
   "execution_count": 49,
   "metadata": {},
   "outputs": [
    {
     "data": {
      "text/plain": [
       "array([[11, 12, 65, 88, 84, 23],\n",
       "       [86, 98, 47, 49, 38, 70],\n",
       "       [45,  4, 25, 57, 13, 13],\n",
       "       [78, 22, 65, 93, 71, 88]])"
      ]
     },
     "execution_count": 49,
     "metadata": {},
     "output_type": "execute_result"
    }
   ],
   "source": [
    "np.reshape(array3D, (4,6), order = 'C')"
   ]
  },
  {
   "cell_type": "code",
   "execution_count": 50,
   "metadata": {},
   "outputs": [
    {
     "data": {
      "text/plain": [
       "array([[[18, 46, 33, 54, 36],\n",
       "        [14,  9, 21, 35, 51],\n",
       "        [39,  2,  5, 26, 48],\n",
       "        [53, 16, 49, 19, 18]],\n",
       "\n",
       "       [[ 6, 18, 42, 52, 20],\n",
       "        [22,  3, 22, 19, 52],\n",
       "        [ 8,  7, 29, 55,  7],\n",
       "        [13, 41,  4, 37, 57]],\n",
       "\n",
       "       [[37, 31, 27,  7, 14],\n",
       "        [35, 13, 37, 23, 33],\n",
       "        [ 5, 54, 47, 39, 21],\n",
       "        [16, 58, 12,  1, 57]]])"
      ]
     },
     "execution_count": 50,
     "metadata": {},
     "output_type": "execute_result"
    }
   ],
   "source": [
    "# Crea un array 3D de forma (3, 4, 5) con valores enteros del 1 al 60 (sin incluir). Utiliza reshape para convertirlo en un array 2D.\n",
    "\n",
    "array3D2 = np.random.randint(1, 60, (3, 4, 5))\n",
    "array3D2"
   ]
  },
  {
   "cell_type": "code",
   "execution_count": 52,
   "metadata": {},
   "outputs": [
    {
     "data": {
      "text/plain": [
       "array([[18, 46, 33, 54, 36, 14],\n",
       "       [ 9, 21, 35, 51, 39,  2],\n",
       "       [ 5, 26, 48, 53, 16, 49],\n",
       "       [19, 18,  6, 18, 42, 52],\n",
       "       [20, 22,  3, 22, 19, 52],\n",
       "       [ 8,  7, 29, 55,  7, 13],\n",
       "       [41,  4, 37, 57, 37, 31],\n",
       "       [27,  7, 14, 35, 13, 37],\n",
       "       [23, 33,  5, 54, 47, 39],\n",
       "       [21, 16, 58, 12,  1, 57]])"
      ]
     },
     "execution_count": 52,
     "metadata": {},
     "output_type": "execute_result"
    }
   ],
   "source": [
    "np.reshape (array3D2, (10,6))"
   ]
  },
  {
   "cell_type": "code",
   "execution_count": 53,
   "metadata": {},
   "outputs": [
    {
     "data": {
      "text/plain": [
       "array([[[0.36696212, 0.95421488],\n",
       "        [0.15769215, 0.91249844],\n",
       "        [0.95928043, 0.52539793]],\n",
       "\n",
       "       [[0.91227143, 0.41763897],\n",
       "        [0.5819852 , 0.1578055 ],\n",
       "        [0.69900025, 0.18813771]],\n",
       "\n",
       "       [[0.66310922, 0.48940126],\n",
       "        [0.31213911, 0.75449541],\n",
       "        [0.98412635, 0.12387946]],\n",
       "\n",
       "       [[0.56556981, 0.81661706],\n",
       "        [0.28811228, 0.09296745],\n",
       "        [0.76766088, 0.724971  ]]])"
      ]
     },
     "execution_count": 53,
     "metadata": {},
     "output_type": "execute_result"
    }
   ],
   "source": [
    "# Crea un array 3D de forma (4, 3, 2) con valores aleatorios entre 0 y 1. Utiliza reshape para convertirlo en un array 2D.\n",
    "\n",
    "\n",
    "array3D3 = np.random.rand(4, 3, 2)\n",
    "array3D3"
   ]
  },
  {
   "cell_type": "code",
   "execution_count": 54,
   "metadata": {},
   "outputs": [
    {
     "data": {
      "text/plain": [
       "array([[0.36696212, 0.95421488],\n",
       "       [0.15769215, 0.91249844],\n",
       "       [0.95928043, 0.52539793],\n",
       "       [0.91227143, 0.41763897],\n",
       "       [0.5819852 , 0.1578055 ],\n",
       "       [0.69900025, 0.18813771],\n",
       "       [0.66310922, 0.48940126],\n",
       "       [0.31213911, 0.75449541],\n",
       "       [0.98412635, 0.12387946],\n",
       "       [0.56556981, 0.81661706],\n",
       "       [0.28811228, 0.09296745],\n",
       "       [0.76766088, 0.724971  ]])"
      ]
     },
     "execution_count": 54,
     "metadata": {},
     "output_type": "execute_result"
    }
   ],
   "source": [
    "np.reshape (array3D3, (12,2))"
   ]
  },
  {
   "cell_type": "code",
   "execution_count": 55,
   "metadata": {},
   "outputs": [
    {
     "data": {
      "text/plain": [
       "array([[[18, 46, 33, 54, 36],\n",
       "        [14,  9, 21, 35, 51],\n",
       "        [39,  2,  5, 26, 48],\n",
       "        [53, 16, 49, 19, 18]],\n",
       "\n",
       "       [[ 6, 18, 42, 52, 20],\n",
       "        [22,  3, 22, 19, 52],\n",
       "        [ 8,  7, 29, 55,  7],\n",
       "        [13, 41,  4, 37, 57]],\n",
       "\n",
       "       [[37, 31, 27,  7, 14],\n",
       "        [35, 13, 37, 23, 33],\n",
       "        [ 5, 54, 47, 39, 21],\n",
       "        [16, 58, 12,  1, 57]]])"
      ]
     },
     "execution_count": 55,
     "metadata": {},
     "output_type": "execute_result"
    }
   ],
   "source": [
    "# Ejercicios con transpose:\n",
    "# Utiliza el array 3D del ejercicio 2 de reshape. Utiliza transpose para permutar los ejes y obtener un nuevo array con forma (5, 4, 3).\n",
    "\n",
    "array3D2 #array 3, 4, 5\n"
   ]
  },
  {
   "cell_type": "code",
   "execution_count": 58,
   "metadata": {},
   "outputs": [
    {
     "data": {
      "text/plain": [
       "array([[[18,  6, 37],\n",
       "        [14, 22, 35],\n",
       "        [39,  8,  5],\n",
       "        [53, 13, 16]],\n",
       "\n",
       "       [[46, 18, 31],\n",
       "        [ 9,  3, 13],\n",
       "        [ 2,  7, 54],\n",
       "        [16, 41, 58]],\n",
       "\n",
       "       [[33, 42, 27],\n",
       "        [21, 22, 37],\n",
       "        [ 5, 29, 47],\n",
       "        [49,  4, 12]],\n",
       "\n",
       "       [[54, 52,  7],\n",
       "        [35, 19, 23],\n",
       "        [26, 55, 39],\n",
       "        [19, 37,  1]],\n",
       "\n",
       "       [[36, 20, 14],\n",
       "        [51, 52, 33],\n",
       "        [48,  7, 21],\n",
       "        [18, 57, 57]]])"
      ]
     },
     "execution_count": 58,
     "metadata": {},
     "output_type": "execute_result"
    }
   ],
   "source": [
    "np.transpose(array3D2)"
   ]
  },
  {
   "cell_type": "code",
   "execution_count": 59,
   "metadata": {},
   "outputs": [
    {
     "data": {
      "text/plain": [
       "array([[[0.36696212, 0.95421488],\n",
       "        [0.15769215, 0.91249844],\n",
       "        [0.95928043, 0.52539793]],\n",
       "\n",
       "       [[0.91227143, 0.41763897],\n",
       "        [0.5819852 , 0.1578055 ],\n",
       "        [0.69900025, 0.18813771]],\n",
       "\n",
       "       [[0.66310922, 0.48940126],\n",
       "        [0.31213911, 0.75449541],\n",
       "        [0.98412635, 0.12387946]],\n",
       "\n",
       "       [[0.56556981, 0.81661706],\n",
       "        [0.28811228, 0.09296745],\n",
       "        [0.76766088, 0.724971  ]]])"
      ]
     },
     "execution_count": 59,
     "metadata": {},
     "output_type": "execute_result"
    }
   ],
   "source": [
    "# Utiliza el array 3D del ejercicio 3 de reshape. Utiliza transpose para cambiar el orden de los ejes y obtener un nuevo array con forma (3, 2, 4).\n",
    "\n",
    "array3D3 #4,3,2"
   ]
  },
  {
   "cell_type": "code",
   "execution_count": 64,
   "metadata": {},
   "outputs": [
    {
     "data": {
      "text/plain": [
       "array([[[0.36696212, 0.91227143, 0.66310922, 0.56556981],\n",
       "        [0.95421488, 0.41763897, 0.48940126, 0.81661706]],\n",
       "\n",
       "       [[0.15769215, 0.5819852 , 0.31213911, 0.28811228],\n",
       "        [0.91249844, 0.1578055 , 0.75449541, 0.09296745]],\n",
       "\n",
       "       [[0.95928043, 0.69900025, 0.98412635, 0.76766088],\n",
       "        [0.52539793, 0.18813771, 0.12387946, 0.724971  ]]])"
      ]
     },
     "execution_count": 64,
     "metadata": {},
     "output_type": "execute_result"
    }
   ],
   "source": [
    "np.transpose(array3D3, axes = (1, 2, 0))"
   ]
  },
  {
   "cell_type": "markdown",
   "metadata": {},
   "source": [
    "# Preguntas teóricas:\n",
    "# ¿Qué diferencia existe entre el reshape y el transpose?\n",
    "\n",
    "reshape cambia la forma del array manteniendo los mismos datos.\n",
    "transpose intercambia filas y columnas en una matriz o un array multidimensional.\n",
    "\n",
    "# ¿Y entre el transpose y el swapaxes?\n",
    "\n",
    "transpose reorganiza todas las dimensiones de un array multidimensional, swapaxes solo intercambia dos ejes específicos \n",
    "sin cambiar el orden de las demás dimensiones."
   ]
  },
  {
   "cell_type": "code",
   "execution_count": 66,
   "metadata": {},
   "outputs": [
    {
     "data": {
      "text/plain": [
       "array([[[0.7, 0.6, 0.1, 0.5, 0.6],\n",
       "        [0.3, 0.3, 0.5, 0.4, 0.1],\n",
       "        [0.9, 0.6, 0.1, 0.5, 0.6]],\n",
       "\n",
       "       [[0.4, 0.3, 0.9, 0.6, 0.1],\n",
       "        [0.4, 0. , 0.3, 0.3, 1. ],\n",
       "        [0.3, 0.7, 0.3, 0.2, 0.7]]])"
      ]
     },
     "execution_count": 66,
     "metadata": {},
     "output_type": "execute_result"
    }
   ],
   "source": [
    "# Funciones Aritméticas y Estadísticas:\n",
    "# Crea un array de tres 3D con elementos entre el 0 y 1 de forma (2, 3, 5) cuyos valores solo tengan 1 decimal.\n",
    "\n",
    "array_aritmetica_1 = np.round(np.random.rand(2, 3, 5),1)\n",
    "array_aritmetica_1"
   ]
  },
  {
   "cell_type": "code",
   "execution_count": 68,
   "metadata": {},
   "outputs": [
    {
     "data": {
      "text/plain": [
       "array([[[0.7, 0.6, 0.1, 0.5, 0.6],\n",
       "        [0.3, 0.3, 0.5, 0.4, 0.1],\n",
       "        [0.9, 0.6, 0.1, 0.5, 0.6]],\n",
       "\n",
       "       [[0.4, 0.3, 0.9, 0.6, 0.1],\n",
       "        [0.4, 0. , 0.3, 0.3, 1. ],\n",
       "        [0.3, 0.7, 0.3, 0.2, 0.7]]])"
      ]
     },
     "execution_count": 68,
     "metadata": {},
     "output_type": "execute_result"
    }
   ],
   "source": [
    "# Crea un array vacío con la misma forma y dimensiones que el array creado anteriormente. \n",
    "\n",
    "\n",
    "array_aritmetica_2 = np.empty((2, 3, 5), dtype = float)\n",
    "array_aritmetica_2"
   ]
  },
  {
   "cell_type": "code",
   "execution_count": 72,
   "metadata": {},
   "outputs": [
    {
     "data": {
      "text/plain": [
       "0.4"
      ]
     },
     "execution_count": 72,
     "metadata": {},
     "output_type": "execute_result"
    }
   ],
   "source": [
    "#Vamos a reemplazar los valores de la matriz vacía que nos acabamos de crear pero basándonos en los valores del primer array bajo las siguientes condiciones:\n",
    "# Si el valor del array es igual que la media, se reemplaza por \"A\".\n",
    "media = np.round(np.mean(array_aritmetica_2),1)\n",
    "media"
   ]
  },
  {
   "cell_type": "code",
   "execution_count": 74,
   "metadata": {},
   "outputs": [
    {
     "data": {
      "text/plain": [
       "array([[['No', 'No', 'No', 'No', 'No'],\n",
       "        ['No', 'No', 'No', 'No', 'No'],\n",
       "        ['No', 'No', 'No', 'No', 'No']],\n",
       "\n",
       "       [['No', 'No', 'No', 'No', 'No'],\n",
       "        ['No', 'No', 'No', 'No', 'No'],\n",
       "        ['No', 'No', 'No', 'No', 'No']]], dtype='<U2')"
      ]
     },
     "execution_count": 74,
     "metadata": {},
     "output_type": "execute_result"
    }
   ],
   "source": [
    "array_media_A = np.where(array_aritmetica_2 == np.mean(array_aritmetica_2), 'A', 'No')\n",
    "array_media_A"
   ]
  },
  {
   "cell_type": "code",
   "execution_count": null,
   "metadata": {},
   "outputs": [],
   "source": [
    "# Si el valor del array es mayor que la media, se reemplaza por \"B\".\n",
    "\n"
   ]
  },
  {
   "cell_type": "code",
   "execution_count": null,
   "metadata": {},
   "outputs": [],
   "source": [
    "# Si el valor del array es menor que la media, se reemplaza por \"C\".\n",
    "\n"
   ]
  },
  {
   "cell_type": "code",
   "execution_count": null,
   "metadata": {},
   "outputs": [],
   "source": [
    "# Si el valor es igual que el máximo, se reemplaza por \"D\".\n"
   ]
  },
  {
   "cell_type": "code",
   "execution_count": null,
   "metadata": {},
   "outputs": [],
   "source": [
    "\n",
    "# Si el valor es igual que el mínimo, se reemplaza por \"E\"."
   ]
  }
 ],
 "metadata": {
  "kernelspec": {
   "display_name": "Python 3",
   "language": "python",
   "name": "python3"
  },
  "language_info": {
   "codemirror_mode": {
    "name": "ipython",
    "version": 3
   },
   "file_extension": ".py",
   "mimetype": "text/x-python",
   "name": "python",
   "nbconvert_exporter": "python",
   "pygments_lexer": "ipython3",
   "version": "3.11.8"
  }
 },
 "nbformat": 4,
 "nbformat_minor": 2
}
