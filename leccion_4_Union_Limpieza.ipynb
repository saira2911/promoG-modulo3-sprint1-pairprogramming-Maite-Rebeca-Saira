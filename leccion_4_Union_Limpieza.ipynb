{
 "cells": [
  {
   "cell_type": "markdown",
   "metadata": {},
   "source": [
    "Tienes a tu disposición dos conjuntos de datos, \"world-data-2023-part1.csv\" y \"world-data-2023-part2.csv\", \n",
    "que contienen información de una serie de indicadores y datos de distintos países. Tu tarea es explorar \n",
    "estos conjuntos de datos y determinar qué tienen en común en términos de columnas y datos.\n",
    "\n",
    "Luego, debes crear un nuevo DataFrame que combine la información de ambos conjuntos de datos en un solo \n",
    "conjunto de datos. Para hacerlo, debes seleccionar el método de unión de Pandas que consideres más apropiado \n",
    "para esta situación y justificar por qué crees que ese método es el mejor en tu informe.\n",
    "\n",
    "Asegúrate de realizar los siguientes pasos:\n",
    "\n",
    "Explora y carga ambos conjuntos de datos en pandas DataFrames.\n",
    "\n",
    "Identifica las columnas comunes entre los dos conjuntos de datos.\n",
    "\n",
    "Utiliza el método de unión de Pandas que consideres más adecuado para combinar los datos de ambos años \n",
    "en un solo DataFrame.\n",
    "\n",
    "Explica por qué elegiste ese método de unión y cómo se llevaron a cabo los pasos anteriores."
   ]
  },
  {
   "cell_type": "code",
   "execution_count": null,
   "metadata": {},
   "outputs": [],
   "source": []
  },
  {
   "cell_type": "markdown",
   "metadata": {},
   "source": [
    "Ejercicios de Limpieza\n",
    "1. Después de la unión de datos, tenemos dos columnas de \"country\". Elimina una de ellas.\n",
    "\n"
   ]
  },
  {
   "cell_type": "code",
   "execution_count": null,
   "metadata": {},
   "outputs": [],
   "source": []
  },
  {
   "cell_type": "markdown",
   "metadata": {},
   "source": [
    "2. Los nombres de las columnas no son homogeneos. Cambia los nombres de las columnas de tal forma que:\n",
    "- No tengan espacios.\n",
    "- Estén en minúscula.\n",
    "- No tengan paréntesis, es decir, quitar \"(%)\", \"(Km2)\".\n",
    "- Algunas columnas tiene \"\\n\". Eliminalos de los nombres de las columnas.\n",
    "- Algunas columnas tienen \":\". Eliminalos de los nombres de las columnas."
   ]
  },
  {
   "cell_type": "code",
   "execution_count": null,
   "metadata": {},
   "outputs": [],
   "source": []
  },
  {
   "cell_type": "markdown",
   "metadata": {},
   "source": [
    "3. La columnas coordinates tiene la latitud y la longitud en una sola columna. Crea dos columnas nuevas, una \n",
    "con la longitud y otra con la latitud. Una vez hecho, elimina la columna de coordinates.\n",
    "\n"
   ]
  },
  {
   "cell_type": "code",
   "execution_count": null,
   "metadata": {},
   "outputs": [],
   "source": []
  },
  {
   "cell_type": "markdown",
   "metadata": {},
   "source": [
    "4. Las columnas unemployment_rate, total_tax_rate, tax_revenue, population_labor_force_participation, \n",
    "out_of_pocket_health_expenditure, gross_tertiary_education_enrollment, gross_primary_education_enrollment, \n",
    "forested_area, cpi_change, agricultural_land tienen \"%\". Elimina los \"%\" de los valores de las columnas.\n",
    "\n"
   ]
  },
  {
   "cell_type": "code",
   "execution_count": null,
   "metadata": {},
   "outputs": [],
   "source": []
  },
  {
   "cell_type": "markdown",
   "metadata": {},
   "source": [
    "5. Haz lo mismo para las columnas de gasoline_price, gdp, minimum_wage, pero eliminando \"$\"."
   ]
  },
  {
   "cell_type": "code",
   "execution_count": null,
   "metadata": {},
   "outputs": [],
   "source": []
  },
  {
   "cell_type": "markdown",
   "metadata": {},
   "source": [
    "6. Guarda el DataFrame para usarlo en el pairprogramming de mañana."
   ]
  },
  {
   "cell_type": "code",
   "execution_count": null,
   "metadata": {},
   "outputs": [],
   "source": []
  }
 ],
 "metadata": {
  "kernelspec": {
   "display_name": "base",
   "language": "python",
   "name": "python3"
  },
  "language_info": {
   "name": "python",
   "version": "3.9.7"
  }
 },
 "nbformat": 4,
 "nbformat_minor": 2
}
